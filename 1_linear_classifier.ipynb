{
 "cells": [
  {
   "cell_type": "markdown",
   "id": "448f8521",
   "metadata": {},
   "source": [
    "<div style=\"\n",
    "  text-align: center; \n",
    "  padding: 1em; \n",
    "  margin: 0 auto 1em auto; \n",
    "  max-width: 90%; \n",
    "  border: 2px solid #00B050; \n",
    "  border-radius: 10px; \n",
    "  background-color: #f9fff9; \n",
    "  box-sizing: border-box;\n",
    "\">\n",
    "  <h1 style=\"margin-bottom: 0.2em; color: #006400;\">[Lab Demo] Online Perceptron for Linear Classification</h1>\n",
    "  <h3 style=\"margin-top: 0; color: #006400; font-style: italic;\">\n",
    "    (Aligned with Lecture 2A-I: Linear Classifiers)\n",
    "  </h3>\n",
    "</div>"
   ]
  },
  {
   "cell_type": "code",
   "execution_count": null,
   "id": "884cb553",
   "metadata": {},
   "outputs": [],
   "source": [
    "import lib.linear_classifier as LC\n",
    "import infra.plot as plot\n",
    "# dev\n",
    "# import importlib\n",
    "# importlib.reload(LC)\n",
    "# importlib.reload(plot)"
   ]
  },
  {
   "cell_type": "markdown",
   "id": "66c07037",
   "metadata": {},
   "source": [
    "## Case Study 0: A Toy Example from Slide 8"
   ]
  },
  {
   "cell_type": "markdown",
   "id": "e4a25706",
   "metadata": {},
   "source": [
    "Visualize the dataset"
   ]
  },
  {
   "cell_type": "code",
   "execution_count": null,
   "id": "73dd823d",
   "metadata": {},
   "outputs": [],
   "source": [
    "exp = LC.LinearClassifierExp(case_study=0)\n",
    "exp.exec(verbose=False)\n",
    "plot.ml1_show_dataset_2d(case=0)"
   ]
  },
  {
   "cell_type": "markdown",
   "id": "e170b2e9",
   "metadata": {},
   "source": [
    "Track training history"
   ]
  },
  {
   "cell_type": "code",
   "execution_count": null,
   "id": "259b623f",
   "metadata": {},
   "outputs": [],
   "source": [
    "plot.ml1_gen_w_seq(case=0, lastepoch=-1)\n",
    "plot.ml1_animate(case=0)"
   ]
  },
  {
   "cell_type": "markdown",
   "id": "060e5be0",
   "metadata": {},
   "source": [
    "## Case Study 1: Perceptron on Large-Margin Linearly Separable Data"
   ]
  },
  {
   "cell_type": "markdown",
   "id": "74f75f52",
   "metadata": {},
   "source": [
    "Visualize the dataset"
   ]
  },
  {
   "cell_type": "code",
   "execution_count": null,
   "id": "f8d9dc76",
   "metadata": {},
   "outputs": [],
   "source": [
    "exp = LC.LinearClassifierExp(case_study=1)\n",
    "exp.exec(verbose=False)\n",
    "plot.ml1_show_dataset_2d(case=1)"
   ]
  },
  {
   "cell_type": "markdown",
   "id": "dd2ed0de",
   "metadata": {},
   "source": [
    "Track training history"
   ]
  },
  {
   "cell_type": "code",
   "execution_count": null,
   "id": "012d041e",
   "metadata": {},
   "outputs": [],
   "source": [
    "plot.ml1_gen_w_seq(case=1, lastepoch=-1)\n",
    "plot.ml1_animate(case=1)"
   ]
  },
  {
   "cell_type": "markdown",
   "id": "2fc37d6a",
   "metadata": {},
   "source": [
    "Visualize dataset w/ margin"
   ]
  },
  {
   "cell_type": "code",
   "execution_count": null,
   "id": "68842225",
   "metadata": {},
   "outputs": [],
   "source": [
    "plot.ml1_show_dataset_2d(case=1, margin=True)"
   ]
  },
  {
   "cell_type": "markdown",
   "id": "a26516de",
   "metadata": {},
   "source": [
    "## Case Study 2: Perceptron on Small-Margin Linearly Separable Data"
   ]
  },
  {
   "cell_type": "markdown",
   "id": "0d1e8ed0",
   "metadata": {},
   "source": [
    "Visualize the dataset"
   ]
  },
  {
   "cell_type": "code",
   "execution_count": null,
   "id": "a462b709",
   "metadata": {},
   "outputs": [],
   "source": [
    "exp = LC.LinearClassifierExp(case_study=2)\n",
    "exp.exec(verbose=False)\n",
    "plot.ml1_show_dataset_2d(case=2)"
   ]
  },
  {
   "cell_type": "markdown",
   "id": "359c6893",
   "metadata": {},
   "source": [
    "Track training history"
   ]
  },
  {
   "cell_type": "code",
   "execution_count": null,
   "id": "b181d49b",
   "metadata": {},
   "outputs": [],
   "source": [
    "plot.ml1_gen_w_seq(case=2, lastepoch=-1)\n",
    "plot.ml1_animate(case=2)"
   ]
  },
  {
   "cell_type": "markdown",
   "id": "8f46a651",
   "metadata": {},
   "source": [
    "Visualize dataset w/ margin"
   ]
  },
  {
   "cell_type": "code",
   "execution_count": null,
   "id": "d2e6431c",
   "metadata": {},
   "outputs": [],
   "source": [
    "plot.ml1_show_dataset_2d(case=2, margin=True)"
   ]
  },
  {
   "cell_type": "markdown",
   "id": "1cab8749",
   "metadata": {},
   "source": [
    "## Case Study 3: Perceptron on Non-Linearly Separable Data"
   ]
  },
  {
   "cell_type": "markdown",
   "id": "d2a5ed55",
   "metadata": {},
   "source": [
    "Visualize the dataset"
   ]
  },
  {
   "cell_type": "code",
   "execution_count": null,
   "id": "e95c8c77",
   "metadata": {},
   "outputs": [],
   "source": [
    "exp = LC.LinearClassifierExp(case_study=3)\n",
    "exp.exec(verbose=False)\n",
    "plot.ml1_show_dataset_2d(case=3)"
   ]
  },
  {
   "cell_type": "markdown",
   "id": "4687cb0e",
   "metadata": {},
   "source": [
    "Track training history"
   ]
  },
  {
   "cell_type": "code",
   "execution_count": null,
   "id": "5309fa89",
   "metadata": {},
   "outputs": [],
   "source": [
    "plot.ml1_gen_w_seq(case=3, lastepoch=-1)\n",
    "plot.ml1_animate(case=3)"
   ]
  }
 ],
 "metadata": {
  "kernelspec": {
   "display_name": "vit",
   "language": "python",
   "name": "python3"
  },
  "language_info": {
   "codemirror_mode": {
    "name": "ipython",
    "version": 3
   },
   "file_extension": ".py",
   "mimetype": "text/x-python",
   "name": "python",
   "nbconvert_exporter": "python",
   "pygments_lexer": "ipython3",
   "version": "3.10.16"
  }
 },
 "nbformat": 4,
 "nbformat_minor": 5
}

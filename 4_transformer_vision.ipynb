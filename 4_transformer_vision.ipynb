{
 "cells": [
  {
   "cell_type": "markdown",
   "id": "3cb451c4",
   "metadata": {},
   "source": [
    "<div style=\"\n",
    "  text-align: center; \n",
    "  padding: 1em; \n",
    "  margin: 0 auto 1em auto; \n",
    "  max-width: 90%; \n",
    "  border: 2px solid #00B050; \n",
    "  border-radius: 10px; \n",
    "  background-color: #f9fff9; \n",
    "  box-sizing: border-box;\n",
    "\">\n",
    "  <h1 style=\"margin-bottom: 0.2em; color: #006400;\">Transformer for Image Classification</h1>\n",
    "  <h3 style=\"margin-top: 0; color: #006400; font-style: italic;\">\n",
    "    Aligned with Lecture 2B-lab III: Adapting Transformers for Vision Task\n",
    "  </h3>\n",
    "</div>"
   ]
  },
  {
   "cell_type": "code",
   "execution_count": null,
   "id": "21f584b0",
   "metadata": {},
   "outputs": [],
   "source": [
    "import infra.plot as plot\n",
    "import lib.transformer_vision as TV\n",
    "# dev-only\n",
    "# import importlib\n",
    "# importlib.reload(plot)\n",
    "# importlib.reload(TV)"
   ]
  },
  {
   "cell_type": "markdown",
   "id": "a9b1ed9d",
   "metadata": {},
   "source": [
    "## 4.1: Vision Transformer (ViT) on image patches"
   ]
  },
  {
   "cell_type": "code",
   "execution_count": null,
   "id": "5e97ddd0",
   "metadata": {},
   "outputs": [],
   "source": [
    "exp = TV.ViTFCExp(epoch=100)\n",
    "exp.exec()"
   ]
  },
  {
   "cell_type": "code",
   "execution_count": null,
   "id": "d1056b68",
   "metadata": {},
   "outputs": [],
   "source": [
    "plot.ml34_show_stats('ml4')"
   ]
  }
 ],
 "metadata": {
  "kernelspec": {
   "display_name": "vit",
   "language": "python",
   "name": "python3"
  },
  "language_info": {
   "codemirror_mode": {
    "name": "ipython",
    "version": 3
   },
   "file_extension": ".py",
   "mimetype": "text/x-python",
   "name": "python",
   "nbconvert_exporter": "python",
   "pygments_lexer": "ipython3",
   "version": "3.10.16"
  }
 },
 "nbformat": 4,
 "nbformat_minor": 5
}

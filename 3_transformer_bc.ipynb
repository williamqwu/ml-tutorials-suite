{
 "cells": [
  {
   "cell_type": "markdown",
   "id": "a44f940f",
   "metadata": {},
   "source": [
    "<div style=\"\n",
    "  text-align: center; \n",
    "  padding: 1em; \n",
    "  margin: 0 auto 1em auto; \n",
    "  max-width: 90%; \n",
    "  border: 2px solid #00B050; \n",
    "  border-radius: 10px; \n",
    "  background-color: #f9fff9; \n",
    "  box-sizing: border-box;\n",
    "\">\n",
    "  <h1 style=\"margin-bottom: 0.2em; color: #006400;\">Transformer for Binary Classification</h1>\n",
    "  <h3 style=\"margin-top: 0; color: #006400; font-style: italic;\">\n",
    "    Aligned with Lecture 2B-lab II: Transformer Architecture for Classification\n",
    "  </h3>\n",
    "</div>"
   ]
  },
  {
   "cell_type": "code",
   "execution_count": null,
   "id": "bce9f3a9",
   "metadata": {},
   "outputs": [],
   "source": [
    "import infra.plot as plot\n",
    "import lib.transformer_bc as TBC\n",
    "# dev-only\n",
    "# import importlib\n",
    "# importlib.reload(plot)\n",
    "# importlib.reload(TBC)"
   ]
  },
  {
   "cell_type": "markdown",
   "id": "1d9ad769",
   "metadata": {},
   "source": [
    "## 3.1: Sequence classification using a Transformer encoder"
   ]
  },
  {
   "cell_type": "code",
   "execution_count": null,
   "id": "5175d261",
   "metadata": {},
   "outputs": [],
   "source": [
    "exp = TBC.TransformerBCExp(epoch=10)\n",
    "exp.exec()"
   ]
  },
  {
   "cell_type": "code",
   "execution_count": null,
   "id": "82240445",
   "metadata": {},
   "outputs": [],
   "source": [
    "plot.ml3_show_dataset_2d('train')\n",
    "plot.ml3_show_dataset_2d('test')"
   ]
  },
  {
   "cell_type": "code",
   "execution_count": null,
   "id": "1f89e4f7",
   "metadata": {},
   "outputs": [],
   "source": [
    "plot.ml34_show_stats('ml3')"
   ]
  }
 ],
 "metadata": {
  "kernelspec": {
   "display_name": "vit",
   "language": "python",
   "name": "python3"
  },
  "language_info": {
   "codemirror_mode": {
    "name": "ipython",
    "version": 3
   },
   "file_extension": ".py",
   "mimetype": "text/x-python",
   "name": "python",
   "nbconvert_exporter": "python",
   "pygments_lexer": "ipython3",
   "version": "3.10.16"
  }
 },
 "nbformat": 4,
 "nbformat_minor": 5
}
